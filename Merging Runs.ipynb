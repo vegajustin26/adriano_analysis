{
 "cells": [
  {
   "cell_type": "code",
   "execution_count": 5,
   "id": "63d20578",
   "metadata": {},
   "outputs": [],
   "source": []
  },
  {
   "cell_type": "code",
   "execution_count": 7,
   "id": "f53b2ae6",
   "metadata": {},
   "outputs": [
    {
     "name": "stdout",
     "output_type": "stream",
     "text": [
      "Creating new file: RUN_FEB_merged_1009-1014_proton_120GeV_54.0V_900-900_0DEG_x1302_z274.root\n",
      "complete\n"
     ]
    }
   ],
   "source": [
    "//std::vector<int> runslist = {988, 991, 992, 993, 996, 997, 999, 1003, 1004, 1007, 1009, 1014, 1015, 1017, 1018, 1020, 1021};\n",
    "//std::vector<int> runslist = {1035, 1037};\n",
    "//std::vector<int> runslist = {1089, 1090, 1091, 1092, 1093};\n",
    "//new 7/19 merge\n",
    "//std::vector<int> runslist = {1009, 1014}; //only glass\n",
    "// std::vector<int> runslist = {1017, 1018};\n",
    "//std::vector<int> runslist = {1020, 1021};\n",
    "merge_runs(runslist);"
   ]
  },
  {
   "cell_type": "code",
   "execution_count": null,
   "id": "9ad27b1c",
   "metadata": {},
   "outputs": [],
   "source": []
  }
 ],
 "metadata": {
  "kernelspec": {
   "display_name": "ROOT C++",
   "language": "c++",
   "name": "root"
  },
  "language_info": {
   "codemirror_mode": "text/x-c++src",
   "file_extension": ".C",
   "mimetype": " text/x-c++src",
   "name": "c++"
  }
 },
 "nbformat": 4,
 "nbformat_minor": 5
}
